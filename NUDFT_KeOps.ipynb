{
  "nbformat": 4,
  "nbformat_minor": 0,
  "metadata": {
    "colab": {
      "name": "NUDFT_KeOps.ipynb",
      "provenance": [],
      "collapsed_sections": [],
      "authorship_tag": "ABX9TyPW8m/l1iH16exSWsiVDUfU",
      "include_colab_link": true
    },
    "kernelspec": {
      "name": "python3",
      "display_name": "Python 3"
    },
    "language_info": {
      "name": "python"
    },
    "accelerator": "GPU"
  },
  "cells": [
    {
      "cell_type": "markdown",
      "metadata": {
        "id": "view-in-github",
        "colab_type": "text"
      },
      "source": [
        "<a href=\"https://colab.research.google.com/github/joanglaunes/NUDFT/blob/main/NUDFT_KeOps.ipynb\" target=\"_parent\"><img src=\"https://colab.research.google.com/assets/colab-badge.svg\" alt=\"Open In Colab\"/></a>"
      ]
    },
    {
      "cell_type": "markdown",
      "metadata": {
        "id": "_n9qovDJjKyj"
      },
      "source": [
        "This script illustrates the use of KeOps for computing the multidimensional Non-Uniform Discrete Fourier Transform.\n",
        "Computation is exact, brute-force and parallelized using GPU.\n",
        "\n",
        "N.B. The first time the script is run, it will spend time compiling the required kernels. Re-run the script to get the correct timings."
      ]
    },
    {
      "cell_type": "code",
      "metadata": {
        "colab": {
          "base_uri": "https://localhost:8080/"
        },
        "id": "MO5veJN2jYMT",
        "outputId": "33c97fd0-dcc6-49e5-9018-bccef7e6beb8"
      },
      "source": [
        "# installation of pykeops package\n",
        "#!pip install pykeops[colab]\n",
        "!pip install git+https://github.com/getkeops/keops.git#egg=pykeops[colab] --no-binary=pykeops"
      ],
      "execution_count": null,
      "outputs": [
        {
          "output_type": "stream",
          "text": [
            "Requirement already satisfied: pykeops[colab] from git+https://github.com/getkeops/keops.git#egg=pykeops[colab] in /usr/local/lib/python3.7/dist-packages (1.5)\n",
            "Requirement already satisfied: numpy in /usr/local/lib/python3.7/dist-packages (from pykeops[colab]) (1.19.5)\n",
            "Requirement already satisfied: torch in /usr/local/lib/python3.7/dist-packages (from pykeops[colab]) (1.8.0+cu101)\n",
            "Requirement already satisfied: cmake>=3.18 in /usr/local/lib/python3.7/dist-packages (from pykeops[colab]) (3.18.4.post1)\n",
            "Requirement already satisfied: typing-extensions in /usr/local/lib/python3.7/dist-packages (from torch->pykeops[colab]) (3.7.4.3)\n"
          ],
          "name": "stdout"
        }
      ]
    },
    {
      "cell_type": "code",
      "metadata": {
        "id": "q3F4z96njuJE"
      },
      "source": [
        "import time\n",
        "import math"
      ],
      "execution_count": null,
      "outputs": []
    },
    {
      "cell_type": "markdown",
      "metadata": {
        "id": "7GyyQjhWpavv"
      },
      "source": [
        "Following Wikipedia :\n",
        "\n",
        "The multidimensional NUDFT converts a \n",
        "$d$-dimensional array of complex numbers \n",
        "${\\displaystyle x_{\\mathbf {n} }}$ into another \n",
        "$d$-dimensional array of complex numbers \n",
        "${\\displaystyle X_{\\mathbf {k} }}$ defined by\n",
        "$${\\displaystyle X_{\\mathbf {k} }=\\sum _{\\mathbf {n} =\\mathbf {0} }^{\\mathbf {N} -1}x_{\\mathbf {n} }e^{-2\\pi i\\mathbf {p} _{\\mathbf {n} }\\cdot {\\boldsymbol {f}}_{\\mathbf {k} }}}$$\n",
        "where \n",
        "${\\displaystyle \\mathbf {p} _{\\mathbf {k} }\\in [0,1]^{d}}$ are sample points, \n",
        "${\\displaystyle {\\boldsymbol {f}}_{\\mathbf {n} }\\in [0,N_{1}]\\times [0,N_{2}]\\times \\cdots \\times [0,N_{d}]}$ are frequencies, and \n",
        "${\\displaystyle \\mathbf {n} =(n_{1},n_{2},\\ldots ,n_{d})}$ and \n",
        "${\\displaystyle \\mathbf {k} =(k_{1},k_{2},\\ldots ,k_{d})}$ are \n",
        "$d$-dimensional vectors of indices from 0 to \n",
        "${\\displaystyle \\mathbf {N} -1=(N_{1}-1,N_{2}-1,\\ldots ,N_{d}-1)}$"
      ]
    },
    {
      "cell_type": "code",
      "metadata": {
        "id": "B7e_mD9_kWom"
      },
      "source": [
        "def NUDFT(x,p,f):\n",
        "  # Non-Uniform Discrete Fourier Transform (multidimensional)\n",
        "  #   x : tensor of type torch.Tensor or numpy.ndarray and shape (N1,N2,...,ND), real or complex valued\n",
        "  #   p, f : tensors of type torch.Tensor or numpy.ndarray and shapes (N1,N2,...,ND,D)\n",
        "  s = x.shape\n",
        "  x = x.reshape(1,-1,1)    # (N1,N2,...,ND) -> (1,N1xN2x...xND,1)\n",
        "  p = p.reshape(1,-1,D)    # (N1,N2,...,ND,D) -> (1,N1xN2x...xND,D)\n",
        "  f = f.reshape(-1,1,D)    # (N1,N2,...,ND,D) -> (N1xN2x...xND,1,D)\n",
        "  f = -2*math.pi * f\n",
        "  x_n, p_n, f_k = LazyTensor(x), LazyTensor(p), LazyTensor(f)\n",
        "  M_nk = x_n * (p_n|f_k).exp1j()    # symbolic matrix of shape (N1xN2x...xND, N1xN2x...xND)\n",
        "  return M_nk.sum(dim=0).reshape(s)"
      ],
      "execution_count": null,
      "outputs": []
    },
    {
      "cell_type": "markdown",
      "metadata": {
        "id": "6slZki6NSLmP"
      },
      "source": [
        "<br>\n",
        "1) Testing with NumPy :"
      ]
    },
    {
      "cell_type": "code",
      "metadata": {
        "id": "WFi55mUuOa3d"
      },
      "source": [
        "import numpy as np\n",
        "from pykeops.numpy import LazyTensor\n",
        "\n",
        "dtype = np.float32\n",
        "\n",
        "# specify N = (N1,N2,...,ND) \n",
        "N = 1000, 1000\n",
        "D = len(N)\n",
        "\n",
        "# define D-dimensional signal\n",
        "x = np.random.randn(*N).astype(dtype)\n",
        "\n",
        "# define D-dimensional array of sample points in [0,1]^D\n",
        "p = np.random.randn(*N, D).astype(dtype)\n",
        "\n",
        "# define D-dimensional array of frequencies in [0,N1]x[0,N2]x...x[0,ND]\n",
        "f = np.random.randn(*N, D).astype(dtype)\n",
        "for k in range(D):\n",
        "  f[...,k] *= N[k]"
      ],
      "execution_count": null,
      "outputs": []
    },
    {
      "cell_type": "code",
      "metadata": {
        "colab": {
          "base_uri": "https://localhost:8080/"
        },
        "id": "H1Wdp_GPOjhr",
        "outputId": "efc21a56-f69d-4619-ee27-61deee99aa75"
      },
      "source": [
        "start = time.time()\n",
        "X = NUDFT(x,p,f)\n",
        "print(\"elapsed = \",time.time()-start)"
      ],
      "execution_count": null,
      "outputs": [
        {
          "output_type": "stream",
          "text": [
            "elapsed =  2.9377636909484863\n"
          ],
          "name": "stdout"
        }
      ]
    },
    {
      "cell_type": "markdown",
      "metadata": {
        "id": "ZyEodqtYSgta"
      },
      "source": [
        "<br>\n",
        "2) Testing with PyTorch, and computing gradient of $\\|X\\|^2$ wrt sample points $p_k$"
      ]
    },
    {
      "cell_type": "code",
      "metadata": {
        "id": "HBhPgvnukGRK"
      },
      "source": [
        "import torch\n",
        "from pykeops.torch import LazyTensor\n",
        "\n",
        "dtype = torch.float32\n",
        "device_id = 'cuda'\n",
        "\n",
        "# specify N = (N1,N2,...,ND) \n",
        "N = 1000, 1000\n",
        "D = len(N)\n",
        "\n",
        "# define D-dimensional signal\n",
        "x = torch.randn(*N, dtype=dtype, device=device_id)\n",
        "\n",
        "# define D-dimensional array of sample points in [0,1]^D\n",
        "p = torch.rand(*N, D, dtype=dtype, requires_grad=True, device=device_id)\n",
        "\n",
        "# define D-dimensional array of frequencies in [0,N1]x[0,N2]x...x[0,ND]\n",
        "f = torch.rand(*N, D, dtype=dtype, device=device_id)\n",
        "for k in range(D):\n",
        "  f[...,k] *= N[k]"
      ],
      "execution_count": null,
      "outputs": []
    },
    {
      "cell_type": "code",
      "metadata": {
        "colab": {
          "base_uri": "https://localhost:8080/"
        },
        "id": "ksWRTlV8kxWQ",
        "outputId": "248ac714-8c0e-4d40-e1e0-42ea27dcf110"
      },
      "source": [
        "start = time.time()\n",
        "X = NUDFT(x,p,f)\n",
        "print(\"elapsed = \",time.time()-start)"
      ],
      "execution_count": null,
      "outputs": [
        {
          "output_type": "stream",
          "text": [
            "elapsed =  3.0278167724609375\n"
          ],
          "name": "stdout"
        }
      ]
    },
    {
      "cell_type": "code",
      "metadata": {
        "id": "o_Y1ZKxdOzId",
        "colab": {
          "base_uri": "https://localhost:8080/"
        },
        "outputId": "80efb287-f941-4ae5-9a86-8dae691f4c33"
      },
      "source": [
        "start = time.time()\n",
        "G = torch.autograd.grad(torch.sum(X**2),p)[0]\n",
        "print(\"elapsed = \",time.time()-start)"
      ],
      "execution_count": null,
      "outputs": [
        {
          "output_type": "stream",
          "text": [
            "elapsed =  3.5868093967437744\n"
          ],
          "name": "stdout"
        }
      ]
    },
    {
      "cell_type": "code",
      "metadata": {
        "id": "1Dy2PUoXbUVO"
      },
      "source": [
        ""
      ],
      "execution_count": null,
      "outputs": []
    }
  ]
}